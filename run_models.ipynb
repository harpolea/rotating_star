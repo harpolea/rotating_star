{
 "cells": [
  {
   "cell_type": "markdown",
   "metadata": {},
   "source": [
    "# Run rotating_star code"
   ]
  },
  {
   "cell_type": "code",
   "execution_count": 1,
   "metadata": {},
   "outputs": [],
   "source": [
    "from star import Star"
   ]
  },
  {
   "cell_type": "code",
   "execution_count": 2,
   "metadata": {},
   "outputs": [],
   "source": [
    "rotation_law = \"rigid\"\n",
    "eos = \"polytrope\"\n",
    "solver = \"SCF\"\n",
    "\n",
    "mesh_size = (20, 20)\n",
    "\n",
    "parameters = {'K': 1, 'N':1, 'A': (0,mesh_size[1]-2), 'B':(mesh_size[0]-1,10)}"
   ]
  },
  {
   "cell_type": "code",
   "execution_count": 3,
   "metadata": {},
   "outputs": [
    {
     "name": "stdout",
     "output_type": "stream",
     "text": [
      "rho = [ 0.94736842  0.89473684  0.84210526  0.78947368  0.73684211  0.68421053\n",
      "  0.63157895  0.57894737  0.52631579  0.47368421  0.42105263  0.36842105\n",
      "  0.31578947  0.26315789  0.21052632  0.15789474  0.10526316  0.05263158\n",
      "  0.         -0.05263158]\n"
     ]
    }
   ],
   "source": [
    "star = Star(rotation_law, eos, solver, mesh_size)\n",
    "star.initialize_star(parameters)"
   ]
  },
  {
   "cell_type": "code",
   "execution_count": null,
   "metadata": {},
   "outputs": [
    {
     "name": "stdout",
     "output_type": "stream",
     "text": [
      "Step 0\n",
      "Errors: H_err = 1.0, Omega2_err = 1.0, C_err = 1\n",
      "Step 1\n",
      "Errors: H_err = 0.28153746926377865, Omega2_err = 1.8249431586848863, C_err = 0.5920676846754769\n",
      "Step 2\n",
      "Errors: H_err = 0.05643730676689929, Omega2_err = 0.2919374828401427, C_err = 0.1243283878373282\n",
      "Step 3\n",
      "Errors: H_err = 0.013351256185133954, Omega2_err = 0.012693914947875563, C_err = 0.015829961195903765\n",
      "Step 4\n",
      "Errors: H_err = 0.0023044559777542564, Omega2_err = 0.008947610279927255, C_err = 0.014985060073169517\n",
      "Step 5\n",
      "Errors: H_err = 0.00130561300728685, Omega2_err = 0.0048822110511572885, C_err = 0.006830766572746285\n",
      "Step 6\n",
      "Errors: H_err = 0.0007967544320126762, Omega2_err = 0.001921965781168626, C_err = 0.002864404197141924\n",
      "Step 7\n"
     ]
    }
   ],
   "source": [
    "M, W = star.solve_star()"
   ]
  },
  {
   "cell_type": "code",
   "execution_count": null,
   "metadata": {},
   "outputs": [],
   "source": [
    "star.plot_star()"
   ]
  },
  {
   "cell_type": "code",
   "execution_count": null,
   "metadata": {},
   "outputs": [],
   "source": [
    "M "
   ]
  },
  {
   "cell_type": "code",
   "execution_count": null,
   "metadata": {},
   "outputs": [],
   "source": [
    "W"
   ]
  },
  {
   "cell_type": "code",
   "execution_count": null,
   "metadata": {},
   "outputs": [],
   "source": [
    "star.C, star.Omega2 "
   ]
  },
  {
   "cell_type": "code",
   "execution_count": null,
   "metadata": {},
   "outputs": [],
   "source": []
  }
 ],
 "metadata": {
  "kernelspec": {
   "display_name": "Python 3",
   "language": "python",
   "name": "python3"
  },
  "language_info": {
   "codemirror_mode": {
    "name": "ipython",
    "version": 3
   },
   "file_extension": ".py",
   "mimetype": "text/x-python",
   "name": "python",
   "nbconvert_exporter": "python",
   "pygments_lexer": "ipython3",
   "version": "3.6.6"
  }
 },
 "nbformat": 4,
 "nbformat_minor": 2
}
