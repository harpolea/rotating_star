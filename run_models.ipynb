{
 "cells": [
  {
   "cell_type": "markdown",
   "metadata": {},
   "source": [
    "# Run rotating_star code"
   ]
  },
  {
   "cell_type": "code",
   "execution_count": 1,
   "metadata": {},
   "outputs": [],
   "source": [
    "from star import Star"
   ]
  },
  {
   "cell_type": "code",
   "execution_count": 2,
   "metadata": {},
   "outputs": [],
   "source": [
    "rotation_law = \"rigid\"\n",
    "eos = \"polytrope\"\n",
    "solver = \"Newton\"\n",
    "\n",
    "mesh_size = (40, 40)\n",
    "\n",
    "parameters = {'K': 1, 'N':1.5, 'A': (0,19), 'B':(mesh_size[0]-1,15), 'Omega0': 0.1, 'rho0':1, 'd':1, 'j0':1}"
   ]
  },
  {
   "cell_type": "code",
   "execution_count": 3,
   "metadata": {},
   "outputs": [
    {
     "name": "stdout",
     "output_type": "stream",
     "text": [
      "rho = [1. 1. 1. 1. 1. 1. 1. 1. 1. 1. 1. 1. 1. 1. 1. 1. 1. 1. 1. 0. 0. 0. 0. 0.\n",
      " 0. 0. 0. 0. 0. 0. 0. 0. 0. 0. 0. 0. 0. 0. 0. 0.]\n",
      "H = [ 0.5  0.5  0.5  0.5  0.5  0.5  0.5  0.5  0.5  0.5  0.5  0.5  0.5  0.5\n",
      "  0.5  0.5  0.5  0.5  0.5  0.  -0.5 -0.5 -0.5 -0.5 -0.5 -0.5 -0.5 -0.5\n",
      " -0.5 -0.5 -0.5 -0.5 -0.5 -0.5 -0.5 -0.5 -0.5 -0.5 -0.5 -0.5]\n"
     ]
    }
   ],
   "source": [
    "star = Star(rotation_law, eos, solver, mesh_size)\n",
    "star.initialize_star(parameters)"
   ]
  },
  {
   "cell_type": "code",
   "execution_count": 4,
   "metadata": {},
   "outputs": [
    {
     "data": {
      "text/plain": [
       "array([-1.5, -1.5, -1.5, -1.5, -1.5, -1.5, -1.5, -1.5, -1.5, -1.5, -1.5,\n",
       "       -1.5, -1.5, -1.5, -1.5, -1.5, -1.5, -1.5, -1.5, -1. , -0.5, -0.5,\n",
       "       -0.5, -0.5, -0.5, -0.5, -0.5, -0.5, -0.5, -0.5, -0.5, -0.5, -0.5,\n",
       "       -0.5, -0.5, -0.5, -0.5, -0.5, -0.5, -0.5])"
      ]
     },
     "execution_count": 4,
     "metadata": {},
     "output_type": "execute_result"
    }
   ],
   "source": [
    "star.Phi[0,:]"
   ]
  },
  {
   "cell_type": "code",
   "execution_count": 5,
   "metadata": {},
   "outputs": [
    {
     "data": {
      "text/plain": [
       "array([0.        , 0.05263158, 0.10526316, 0.15789474, 0.21052632,\n",
       "       0.26315789, 0.31578947, 0.36842105, 0.42105263, 0.47368421,\n",
       "       0.52631579, 0.57894737, 0.63157895, 0.68421053, 0.73684211,\n",
       "       0.78947368, 0.84210526, 0.89473684, 0.94736842, 1.        ,\n",
       "       1.05263158, 1.10526316, 1.15789474, 1.21052632, 1.26315789,\n",
       "       1.31578947, 1.36842105, 1.42105263, 1.47368421, 1.52631579,\n",
       "       1.57894737, 1.63157895, 1.68421053, 1.73684211, 1.78947368,\n",
       "       1.84210526, 1.89473684, 1.94736842, 2.        , 2.05263158])"
      ]
     },
     "execution_count": 5,
     "metadata": {},
     "output_type": "execute_result"
    }
   ],
   "source": [
    "star.r_coords"
   ]
  },
  {
   "cell_type": "code",
   "execution_count": 6,
   "metadata": {},
   "outputs": [
    {
     "name": "stdout",
     "output_type": "stream",
     "text": [
      "Step 0\n",
      "\tErrors: H_err = 0.8, C_err = 1.0, rho_err = 0.9593780107774744\n",
      "Step 1\n",
      "\tErrors: H_err = 0.3788448498927881, C_err = 1.0712382443600184, rho_err = 0.3950724643852241\n",
      "Step 2\n",
      "\tErrors: H_err = 0.17200292531784997, C_err = 13.096494520932954, rho_err = 0.17522824067526552\n",
      "Step 3\n",
      "\tErrors: H_err = 0.15638960057713583, C_err = 0.6767609145132341, rho_err = 0.16794831191539755\n",
      "Step 4\n",
      "\tErrors: H_err = 0.12939972114544668, C_err = 0.4282249059893741, rho_err = 0.1364624356645966\n",
      "Step 5\n",
      "\tErrors: H_err = 0.09384582175930042, C_err = 0.1609623490180581, rho_err = 0.10114960638195604\n",
      "Step 6\n",
      "\tErrors: H_err = 0.0771615113212467, C_err = 0.1379836448951059, rho_err = 0.0818587644831721\n",
      "Step 7\n",
      "\tErrors: H_err = 0.05824310522920154, C_err = 0.46292913772415306, rho_err = 0.06250765982969919\n",
      "Step 8\n",
      "\tErrors: H_err = 0.04716578407720095, C_err = 3.654485680505359, rho_err = 0.05016764611771252\n",
      "Step 9\n",
      "\tErrors: H_err = 0.03626511380078785, C_err = 0.47829071030331505, rho_err = 0.038842273896802545\n",
      "Step 10\n",
      "\tErrors: H_err = 0.029081437529542745, C_err = 0.6425299609465882, rho_err = 0.030978844341953915\n",
      "Step 11\n",
      "\tErrors: H_err = 0.022600302770973784, C_err = 1.616739465861159, rho_err = 0.02417700837455542\n",
      "Step 12\n",
      "\tErrors: H_err = 0.018020603020698557, C_err = 0.06896292635177353, rho_err = 0.019213597242745167\n",
      "Step 13\n",
      "\tErrors: H_err = 0.014090396258506915, C_err = 0.26127862505128324, rho_err = 0.015062576678815543\n",
      "Step 14\n",
      "\tErrors: H_err = 0.011192767800369973, C_err = 0.18045333731031932, rho_err = 0.01194034302867976\n",
      "Step 15\n",
      "\tErrors: H_err = 0.008783040914552636, C_err = 0.4908669743765114, rho_err = 0.009384909913878199\n",
      "Step 16\n",
      "\tErrors: H_err = 0.0069598273656204315, C_err = 0.005025973943462278, rho_err = 0.00742722425947044\n",
      "Step 17\n",
      "\tErrors: H_err = 0.005473196520610988, C_err = 0.04179373534372356, rho_err = 0.005846665304231092\n",
      "Step 18\n",
      "\tErrors: H_err = 0.004330312189387945, C_err = 1.0170789030174696, rho_err = 0.004622104838789363\n",
      "Step 19\n",
      "\tErrors: H_err = 0.003409829581374688, C_err = 46.151360373984055, rho_err = 0.003641888142757655\n",
      "Step 20\n",
      "\tErrors: H_err = 0.0026951587850924707, C_err = 0.42536917172284844, rho_err = 0.0028771502230818154\n",
      "Step 21\n",
      "\tErrors: H_err = 0.0021239733437142584, C_err = 0.21240593238566502, rho_err = 0.0022682840290106365\n",
      "Step 22\n",
      "\tErrors: H_err = 0.0016777715003827057, C_err = 0.15003572052251538, rho_err = 0.0017912114794817996\n",
      "Step 23\n",
      "\tErrors: H_err = 0.0013228623209011303, C_err = 0.2044224154134653, rho_err = 0.0014126503201312701\n",
      "Step 24\n",
      "\tErrors: H_err = 0.0010445533812780416, C_err = 0.08160795273666942, rho_err = 0.0011152366412163703\n",
      "Step 25\n",
      "\tErrors: H_err = 0.0008238479531379406, C_err = 0.3459867589786072, rho_err = 0.0008797300915010432\n",
      "Step 26\n",
      "\tErrors: H_err = 0.0006503666024354094, C_err = 4.121173929995242, rho_err = 0.0006943981171369806\n",
      "Step 27\n",
      "\tErrors: H_err = 0.0005130482788990414, C_err = 0.7832731330242617, rho_err = 0.0005478348173058025\n",
      "Step 28\n",
      "\tErrors: H_err = 0.00040495240871942726, C_err = 0.029892929371346605, rho_err = 0.0004323773686578648\n",
      "Step 29\n",
      "\tErrors: H_err = 0.00031948902778777816, C_err = 0.02731164684081302, rho_err = 0.00034114617259878294\n",
      "Step 30\n",
      "\tErrors: H_err = 0.0002521511244981209, C_err = 0.2619382298927689, rho_err = 0.0002692311290695653\n",
      "Step 31\n",
      "\tErrors: H_err = 0.00019895057429777992, C_err = 0.881319260445062, rho_err = 0.00021243471811709913\n",
      "Step 32\n",
      "\tErrors: H_err = 0.00015700909825824196, C_err = 18.122412650096358, rho_err = 0.00016764574834065985\n",
      "Step 33\n",
      "\tErrors: H_err = 0.0001238880150079777, C_err = 0.3945748988374505, rho_err = 0.00013228388453229113\n",
      "Step 34\n",
      "\tErrors: H_err = 9.776716271003842e-05, C_err = 0.1905754051302248, rho_err = 0.00010439094457653776\n",
      "Step 35\n",
      "\tErrors: H_err = 7.714537989027547e-05, C_err = 0.08345581275326225, rho_err = 8.237319585246981e-05\n",
      "Step 36\n",
      "\tErrors: H_err = 6.0878475269276946e-05, C_err = 0.0675239252458245, rho_err = 6.500322222130467e-05\n",
      "Step 37\n",
      "\tErrors: H_err = 4.803839343638914e-05, C_err = 0.27426908972087854, rho_err = 5.129363066302941e-05\n",
      "Step 38\n",
      "\tErrors: H_err = 3.7908463358870137e-05, C_err = 0.13424143059410426, rho_err = 4.0476980712354604e-05\n",
      "Step 39\n",
      "\tErrors: H_err = 2.991339504374579e-05, C_err = 0.6466660958475985, rho_err = 3.194037650028346e-05\n",
      "Step 40\n",
      "\tErrors: H_err = 2.360530081455517e-05, C_err = 0.36071653232286843, rho_err = 2.520472559674993e-05\n",
      "Step 41\n",
      "\tErrors: H_err = 1.8626965044354823e-05, C_err = 0.7765471765956334, rho_err = 1.9889140962181407e-05\n",
      "Step 42\n",
      "\tErrors: H_err = 1.4698857967498908e-05, C_err = 0.03361051817426896, rho_err = 1.5694820125033958e-05\n",
      "Step 43\n",
      "\tErrors: H_err = 1.1598933232193053e-05, C_err = 0.1287772476303584, rho_err = 1.2384877833559976e-05\n",
      "Step 44\n",
      "\tErrors: H_err = 9.152886790530998e-06, C_err = 0.22867297322312796, rho_err = 9.77307059818457e-06\n",
      "Step 45\n",
      "\tErrors: H_err = 7.222602536760546e-06, C_err = 0.21177953392758808, rho_err = 7.712003894710938e-06\n",
      "Step 46\n",
      "\tErrors: H_err = 5.699448598939199e-06, C_err = 0.1809199508726098, rho_err = 6.085635123720356e-06\n",
      "Step 47\n",
      "\tErrors: H_err = 4.497480808662848e-06, C_err = 0.9282518797224034, rho_err = 4.802227672517906e-06\n",
      "Step 48\n",
      "\tErrors: H_err = 3.549013564629878e-06, C_err = 0.44529282201026854, rho_err = 3.7894902847890152e-06\n",
      "Step 49\n",
      "\tErrors: H_err = 2.800552545068056e-06, C_err = 0.02421055892992683, rho_err = 2.990316016471259e-06\n",
      "Step 50\n",
      "\tErrors: H_err = 2.2099426063348914e-06, C_err = 0.8890074861050427, rho_err = 2.3596857961494244e-06\n",
      "Step 51\n",
      "\tErrors: H_err = 1.7438826553473058e-06, C_err = 0.5205489049730017, rho_err = 1.8620467381880155e-06\n",
      "Step 52\n",
      "\tErrors: H_err = 1.3761128260014742e-06, C_err = 0.39225419150463436, rho_err = 1.4693567615964298e-06\n",
      "Step 53\n",
      "\tErrors: H_err = 1.0859012096631202e-06, C_err = 0.0035761341107852, rho_err = 1.159480953694114e-06\n",
      "Step 54\n",
      "\tErrors: H_err = 8.568940563336012e-07, C_err = 0.029655389013576432, rho_err = 9.149563170995909e-07\n",
      "Step 55\n",
      "\tErrors: H_err = 6.761808284849721e-07, C_err = 0.07294319518884412, rho_err = 7.219982187112152e-07\n",
      "Step 56\n",
      "\tErrors: H_err = 5.335781498416732e-07, C_err = 0.16362188223255036, rho_err = 5.697328550047224e-07\n",
      "Step 57\n",
      "\tErrors: H_err = 4.2104824924393763e-07, C_err = 0.08252568967130404, rho_err = 4.4957804801182187e-07\n",
      "Step 58\n",
      "\tErrors: H_err = 3.3224877773463267e-07, C_err = 0.0197747505225503, rho_err = 3.547616118093602e-07\n",
      "Step 59\n",
      "\tErrors: H_err = 2.6217891164748146e-07, C_err = 0.41609214585133225, rho_err = 2.7994392515218175e-07\n",
      "Step 60\n",
      "\tErrors: H_err = 2.0688905557619743e-07, C_err = 0.24931174176559076, rho_err = 2.2090769119520332e-07\n",
      "Step 61\n",
      "\tErrors: H_err = 1.632593138012337e-07, C_err = 0.1927876127228737, rho_err = 1.743215510829895e-07\n",
      "Step 62\n",
      "\tErrors: H_err = 1.2882403535030534e-07, C_err = 0.5317504076099006, rho_err = 1.3755294686612584e-07\n",
      "Step 63\n",
      "\tErrors: H_err = 1.0165104882275912e-07, C_err = 0.26246579928548314, rho_err = 1.0853882209671469e-07\n",
      "Step 64\n",
      "\tErrors: H_err = 8.021216499898256e-08, C_err = 0.27187278251027047, rho_err = 8.564724812698492e-08\n",
      "Step 65\n",
      "\tErrors: H_err = 6.329226271972738e-08, C_err = 1.5787878617194187, rho_err = 6.758087284230989e-08\n",
      "Step 66\n",
      "\tErrors: H_err = 4.9940299362560835e-08, C_err = 0.36549092943517325, rho_err = 5.33241711897503e-08\n",
      "Step 67\n",
      "\tErrors: H_err = 3.94056474561921e-08, C_err = 0.2778978983551602, rho_err = 4.207576537185172e-08\n",
      "Step 68\n",
      "\tErrors: H_err = 3.109823598634857e-08, C_err = 0.9619655171380953, rho_err = 3.3205435956417923e-08\n",
      "Step 69\n",
      "\tErrors: H_err = 2.454113099403794e-08, C_err = 0.1389836863742155, rho_err = 2.6203986036588064e-08\n",
      "Step 70\n",
      "\tErrors: H_err = 1.9364275782862676e-08, C_err = 0.24931352353138866, rho_err = 2.0676396872421026e-08\n",
      "Step 71\n",
      "\tErrors: H_err = 1.5310870793426388e-08, C_err = 0.9328641282985304, rho_err = 1.6350037379539687e-08\n",
      "Step 72\n",
      "\tErrors: H_err = 1.2256333370430246e-08, C_err = 3.802097809792497, rho_err = 1.308836722335664e-08\n",
      "Step 73\n",
      "\tErrors: H_err = 9.810644652219479e-09, C_err = 2.920832815177077, rho_err = 1.0475283751532056e-08\n",
      "Step 74\n",
      "\tErrors: H_err = 7.738281926350502e-09, C_err = 0.1805678189147731, rho_err = 8.262634521027919e-09\n",
      "Step 75\n",
      "\tErrors: H_err = 6.1083095914682295e-09, C_err = 0.13332058637860753, rho_err = 6.522202222747332e-09\n",
      "Step 76\n",
      "\tErrors: H_err = 4.820179722031514e-09, C_err = 0.044056102337231715, rho_err = 5.1467932138393545e-09\n",
      "Step 77\n",
      "\tErrors: H_err = 3.803199355445483e-09, C_err = 0.026567653522079526, rho_err = 4.060890512747047e-09\n",
      "Step 78\n",
      "\tErrors: H_err = 3.001854054218681e-09, C_err = 0.5035568953443268, rho_err = 3.2052885345911846e-09\n",
      "Step 79\n",
      "\tErrors: H_err = 2.3716079766700127e-09, C_err = 0.5617447416153619, rho_err = 2.532318965631207e-09\n",
      "Step 80\n",
      "\tErrors: H_err = 1.87151556474418e-09, C_err = 0.15433695274656398, rho_err = 1.9983036891879536e-09\n",
      "Step 81\n",
      "\tErrors: H_err = 1.4744338194816453e-09, C_err = 0.6558072698151066, rho_err = 1.5743173431559384e-09\n",
      "Step 82\n",
      "\tErrors: H_err = 1.1601837712760221e-09, C_err = 0.21692873412413105, rho_err = 1.2387498249388745e-09\n",
      "Step 83\n",
      "\tErrors: H_err = 9.108751086728207e-10, C_err = 0.337682758911302, rho_err = 9.725593108633659e-10\n",
      "Step 84\n",
      "\tErrors: H_err = 7.181249372933886e-10, C_err = 0.11564750022168178, rho_err = 7.668579660169305e-10\n",
      "Step 85\n",
      "\tErrors: H_err = 5.725264706768473e-10, C_err = 2.721134105147705, rho_err = 6.113559658515992e-10\n",
      "Step 86\n",
      "\tErrors: H_err = 4.5360497580304467e-10, C_err = 0.4152740267520303, rho_err = 4.843143108779184e-10\n",
      "Step 87\n",
      "\tErrors: H_err = 3.530956860231454e-10, C_err = 0.8325826989647298, rho_err = 3.7694070087467216e-10\n",
      "Step 88\n",
      "\tErrors: H_err = 2.687975175774678e-10, C_err = 0.44041095742431646, rho_err = 2.868999482430462e-10\n",
      "Step 89\n",
      "\tErrors: H_err = 2.044184377325562e-10, C_err = 0.3586953387079929, rho_err = 2.1826401797042616e-10\n",
      "Step 90\n",
      "\tErrors: H_err = 1.6167556182722341e-10, C_err = 0.3404306736182891, rho_err = 1.7262946627738488e-10\n",
      "Step 91\n",
      "\tErrors: H_err = 1.278182004682544e-10, C_err = 1.4667969901025564, rho_err = 1.3645468088796445e-10\n",
      "Step 92\n",
      "\tErrors: H_err = 9.881544471568267e-11, C_err = 0.30614787484971867, rho_err = 1.0550416096322066e-10\n",
      "Step 93\n",
      "\tErrors: H_err = 7.815863511950729e-11, C_err = 0.4462302318810404, rho_err = 8.347322832946689e-11\n",
      "Step 94\n",
      "\tErrors: H_err = 6.58084253757306e-11, C_err = 0.7011637847880888, rho_err = 7.038225557919707e-11\n",
      "Step 95\n",
      "\tErrors: H_err = 6.882379111061687e-11, C_err = 1.7412361163866197, rho_err = 7.360301257364164e-11\n",
      "Step 96\n",
      "\tErrors: H_err = 6.949036901460169e-11, C_err = 0.23015733803430238, rho_err = 7.421130376883353e-11\n",
      "Step 97\n",
      "\tErrors: H_err = 4.668123665396639e-11, C_err = 0.5622334275162565, rho_err = 4.958072841176778e-11\n",
      "Step 98\n",
      "\tErrors: H_err = 1.0818901330367224e-11, C_err = 1.8187674441175292, rho_err = 1.1464607041489213e-11\n",
      "Step 99\n",
      "\tErrors: H_err = 2.4449953173188988e-11, C_err = 0.13303176401179892, rho_err = 2.611721949818957e-11\n",
      "No solution found :( Solve terminated as max_steps reached\n"
     ]
    }
   ],
   "source": [
    "star.solve_star()#max_steps=25)"
   ]
  },
  {
   "cell_type": "code",
   "execution_count": 7,
   "metadata": {},
   "outputs": [
    {
     "data": {
      "image/png": "[encoded data removed]",
      "text/plain": [
       "<Figure size 576x720 with 3 Axes>"
      ]
     },
     "metadata": {
      "needs_background": "light"
     },
     "output_type": "display_data"
    }
   ],
   "source": [
    "star.plot_star()"
   ]
  },
  {
   "cell_type": "code",
   "execution_count": 19,
   "metadata": {},
   "outputs": [
    {
     "ename": "NameError",
     "evalue": "name 'M' is not defined",
     "output_type": "error",
     "traceback": [
      "\u001b[0;31m---------------------------------------------------------------------------\u001b[0m",
      "\u001b[0;31mNameError\u001b[0m                                 Traceback (most recent call last)",
      "\u001b[0;32m<ipython-input-19-e00d4e766799>\u001b[0m in \u001b[0;36m<module>\u001b[0;34m\u001b[0m\n\u001b[0;32m----> 1\u001b[0;31m \u001b[0mM\u001b[0m \u001b[0;34m,\u001b[0m \u001b[0mW\u001b[0m\u001b[0;34m,\u001b[0m \u001b[0mstar\u001b[0m\u001b[0;34m.\u001b[0m\u001b[0mC\u001b[0m\u001b[0;34m,\u001b[0m \u001b[0mstar\u001b[0m\u001b[0;34m.\u001b[0m\u001b[0mOmega2\u001b[0m\u001b[0;34m\u001b[0m\u001b[0m\n\u001b[0m",
      "\u001b[0;31mNameError\u001b[0m: name 'M' is not defined"
     ]
    }
   ],
   "source": [
    "M , W, star.C, star.Omega2 "
   ]
  },
  {
   "cell_type": "code",
   "execution_count": 5,
   "metadata": {},
   "outputs": [
    {
     "name": "stdout",
     "output_type": "stream",
     "text": [
      "Object `np.flatten` not found.\n"
     ]
    }
   ],
   "source": []
  },
  {
   "cell_type": "code",
   "execution_count": 5,
   "metadata": {},
   "outputs": [
    {
     "data": {
      "text/plain": [
       "array([0.        , 0.05555556, 0.11111111, 0.16666667, 0.22222222,\n",
       "       0.27777778, 0.33333333, 0.38888889, 0.44444444, 0.5       ,\n",
       "       0.55555556, 0.61111111, 0.66666667, 0.72222222, 0.77777778,\n",
       "       0.83333333, 0.88888889, 0.94444444, 1.        , 1.05555556])"
      ]
     },
     "execution_count": 5,
     "metadata": {},
     "output_type": "execute_result"
    }
   ],
   "source": [
    "star.r_coords"
   ]
  },
  {
   "cell_type": "code",
   "execution_count": 9,
   "metadata": {},
   "outputs": [],
   "source": [
    "import numpy as np"
   ]
  },
  {
   "cell_type": "code",
   "execution_count": 10,
   "metadata": {},
   "outputs": [],
   "source": [
    "a = np.array([[1,2,3], [4,5,6]])"
   ]
  },
  {
   "cell_type": "code",
   "execution_count": 11,
   "metadata": {},
   "outputs": [
    {
     "data": {
      "text/plain": [
       "array([1, 2, 3, 4, 5, 6])"
      ]
     },
     "execution_count": 11,
     "metadata": {},
     "output_type": "execute_result"
    }
   ],
   "source": [
    "a.flatten()"
   ]
  },
  {
   "cell_type": "code",
   "execution_count": 12,
   "metadata": {},
   "outputs": [
    {
     "data": {
      "text/plain": [
       "4"
      ]
     },
     "execution_count": 12,
     "metadata": {},
     "output_type": "execute_result"
    }
   ],
   "source": [
    "a[1,0]"
   ]
  },
  {
   "cell_type": "code",
   "execution_count": 13,
   "metadata": {},
   "outputs": [],
   "source": [
    "A = np.array([[0,1], [2, 0]])\n",
    "x = np.array([2,3])"
   ]
  },
  {
   "cell_type": "code",
   "execution_count": 14,
   "metadata": {},
   "outputs": [
    {
     "data": {
      "text/plain": [
       "array([3, 4])"
      ]
     },
     "execution_count": 14,
     "metadata": {},
     "output_type": "execute_result"
    }
   ],
   "source": [
    "np.matmul(A, x)"
   ]
  },
  {
   "cell_type": "code",
   "execution_count": 15,
   "metadata": {},
   "outputs": [
    {
     "data": {
      "text/plain": [
       "2"
      ]
     },
     "execution_count": 15,
     "metadata": {},
     "output_type": "execute_result"
    }
   ],
   "source": [
    "A[1,0]"
   ]
  },
  {
   "cell_type": "code",
   "execution_count": 16,
   "metadata": {},
   "outputs": [
    {
     "data": {
      "text/plain": [
       "array([[0, 1],\n",
       "       [2, 0]])"
      ]
     },
     "execution_count": 16,
     "metadata": {},
     "output_type": "execute_result"
    }
   ],
   "source": [
    "A"
   ]
  },
  {
   "cell_type": "code",
   "execution_count": null,
   "metadata": {},
   "outputs": [],
   "source": []
  }
 ],
 "metadata": {
  "kernelspec": {
   "display_name": "Python 3",
   "language": "python",
   "name": "python3"
  },
  "language_info": {
   "codemirror_mode": {
    "name": "ipython",
    "version": 3
   },
   "file_extension": ".py",
   "mimetype": "text/x-python",
   "name": "python",
   "nbconvert_exporter": "python",
   "pygments_lexer": "ipython3",
   "version": "3.6.6"
  }
 },
 "nbformat": 4,
 "nbformat_minor": 2
}
